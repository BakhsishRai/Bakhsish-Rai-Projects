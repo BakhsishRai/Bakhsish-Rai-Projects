{
 "cells": [
  {
   "cell_type": "code",
   "execution_count": 7,
   "id": "db9aa036",
   "metadata": {},
   "outputs": [
    {
     "data": {
      "text/plain": [
       "25"
      ]
     },
     "execution_count": 7,
     "metadata": {},
     "output_type": "execute_result"
    }
   ],
   "source": [
    "#define custom function\n",
    "\n",
    "def add5(x):\n",
    "    x= x + 5\n",
    "    return x\n",
    "add5(20)"
   ]
  },
  {
   "cell_type": "code",
   "execution_count": null,
   "id": "dded0ec9",
   "metadata": {},
   "outputs": [],
   "source": []
  }
 ],
 "metadata": {
  "kernelspec": {
   "display_name": "Python 3 (ipykernel)",
   "language": "python",
   "name": "python3"
  },
  "language_info": {
   "codemirror_mode": {
    "name": "ipython",
    "version": 3
   },
   "file_extension": ".py",
   "mimetype": "text/x-python",
   "name": "python",
   "nbconvert_exporter": "python",
   "pygments_lexer": "ipython3",
   "version": "3.9.13"
  }
 },
 "nbformat": 4,
 "nbformat_minor": 5
}
