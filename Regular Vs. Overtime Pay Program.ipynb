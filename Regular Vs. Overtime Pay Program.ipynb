{
 "cells": [
  {
   "cell_type": "code",
   "execution_count": 6,
   "id": "93df61bb",
   "metadata": {},
   "outputs": [
    {
     "name": "stdout",
     "output_type": "stream",
     "text": [
      "How many hours did you work this week?80\n",
      "How much do you make per hour? 63.9\n",
      "Please input a numerical value.\n"
     ]
    }
   ],
   "source": [
    "#ask the user how many hours they worked that week\n",
    "hours = input(prompt = \"How many hours did you work this week?\")\n",
    "rate = input(prompt = \"How much do you make per hour? \")\n",
    "\n",
    "try:\n",
    "    hrs = float(hours)\n",
    "    rt = float(rate) \n",
    "    totalWages = hrs * rt\n",
    "    overtimepay = (overtimehours - regularHours) * 1.5\n",
    "    print(\"\"\"Your total wages this week is {}\"\"\".format(totalWages))\n",
    "    \n",
    "except:\n",
    "    print(\"Please input a numerical value.\")"
   ]
  },
  {
   "cell_type": "code",
   "execution_count": 12,
   "id": "c4598e70",
   "metadata": {},
   "outputs": [
    {
     "name": "stdout",
     "output_type": "stream",
     "text": [
      "How many hours did you work this week? 69\n",
      "You have worked 69.0 hours this week.\n",
      "\n",
      "    \n",
      "You worked 29.00 hours in overtime. Your overtime pay is $2,779.65.\n",
      "    Your regular pay is $2,556.00. Your total wage this week is $5,335.65.\n"
     ]
    }
   ],
   "source": [
    "# Guided Version\n",
    "\n",
    "#Ch .3 Regular Vs Over Time Pay Program Soultion++\n",
    "\n",
    "#defining Variables\n",
    "regular_pay_rate = 63.9\n",
    "normal_hours = 40\n",
    "overtime_pay_rate = 63.9 * 1.5\n",
    "\n",
    "#asking users about their hours with a try/except clause\n",
    "try:\n",
    "    hours_worked = float(input(\"How many hours did you work this week? \"))\n",
    "    print(\"You have worked {} hours this week.\" .format(hours_worked))\n",
    "except:\n",
    "    print(\"Please insert the hours you work.\")\n",
    "    \n",
    "#creating an if statement to evaluate regular pay and overtime pay\n",
    "if hours_worked <= 40:\n",
    "    print(\"Your pay will be regular pay rate.\")\n",
    "    regular_pay = regular_pay_rate * hours_worked\n",
    "    print(\"Your pay for this week is ${:,.2f}.\".format(regular_pay))\n",
    "    print(\"You do not qualify for overtime pay.\")\n",
    "          \n",
    "else:\n",
    "    overtime_hours = hours_worked - normal_hours\n",
    "    overtime_pay = overtime_pay_rate * overtime_hours\n",
    "    regular_pay = regular_pay_rate * normal_hours\n",
    "    total_wage = regular_pay + overtime_pay\n",
    "    print(\"\"\"\n",
    "    \"\"\")\n",
    "    print(\"\"\"You worked {:,.2f} hours in overtime. Your overtime pay is ${:,.2f}.\n",
    "    Your regular pay is ${:,.2f}. Your total wage this week is ${:,.2f}.\"\"\".format(overtime_hours,\n",
    "                                                                                   overtime_pay,\n",
    "                                                                                   regular_pay,\n",
    "                                                                                   total_wage))\n",
    "    "
   ]
  },
  {
   "cell_type": "code",
   "execution_count": null,
   "id": "5e410e16",
   "metadata": {},
   "outputs": [],
   "source": []
  },
  {
   "cell_type": "code",
   "execution_count": null,
   "id": "f5c7f997",
   "metadata": {},
   "outputs": [],
   "source": []
  }
 ],
 "metadata": {
  "kernelspec": {
   "display_name": "Python 3 (ipykernel)",
   "language": "python",
   "name": "python3"
  },
  "language_info": {
   "codemirror_mode": {
    "name": "ipython",
    "version": 3
   },
   "file_extension": ".py",
   "mimetype": "text/x-python",
   "name": "python",
   "nbconvert_exporter": "python",
   "pygments_lexer": "ipython3",
   "version": "3.9.13"
  }
 },
 "nbformat": 4,
 "nbformat_minor": 5
}
