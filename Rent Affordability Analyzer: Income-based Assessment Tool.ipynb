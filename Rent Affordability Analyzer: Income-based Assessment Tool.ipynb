{
 "cells": [
  {
   "cell_type": "markdown",
   "id": "e2dce7a0",
   "metadata": {},
   "source": [
    "1 Rent vs Income Program Version 1"
   ]
  },
  {
   "cell_type": "code",
   "execution_count": null,
   "id": "0c54f2ec",
   "metadata": {},
   "outputs": [],
   "source": [
    "#1 Welcome User.\n",
    "\n",
    "#Class: how do we ask the user their name?\n",
    "name = input(prompt = \"What is your name? \")\n",
    "\n",
    "#New Python info = BOLDING \\033[1n {CONTENT} \\033[0n\n",
    "print(\"Hello \\033[0n, it's nice to meet you!\".format(name)) #this is a string method\n",
    "\n",
    "input(prompt = \"Click Enter to Continue\") #this is to add white space to our program"
   ]
  },
  {
   "cell_type": "code",
   "execution_count": null,
   "id": "e875e980",
   "metadata": {},
   "outputs": [],
   "source": [
    "#2 Explain the gist of the program to user\n",
    "\n",
    "#Class: Create a print statement that expplains the gist of the program.\n",
    "print(\"\"\"This program will help you determine how much money you need to make to keep \n",
    "rent less than 30% of your income.\"\"\")\n",
    "\n",
    "input (prompt= \"Click Enter to continue\") #this also enchances user experince\n",
    "\n",
    "#python Hygenie: As a general rule, don't code past the red line."
   ]
  },
  {
   "cell_type": "code",
   "execution_count": null,
   "id": "002d0f6e",
   "metadata": {},
   "outputs": [],
   "source": [
    "#3 Collect rent information.\n",
    "\n",
    "#class: how do we create a variable to collect rent information?\n",
    "#Class: after we create the variable, how do we make sure we can actually use it?\n",
    "#Class: Hint- remember data types\n",
    "\n",
    "#collect rent info from user- add an appropriate comment here\n",
    "rent = float(input(prompt = \"How much do you pay in rent? \"))\n",
    "\n",
    "print(\"\"\"\n",
    "You currently pay \\033[1m ${:,.2f}\\033[0m each month in rent. Thanks for sharing.\n",
    "\"\"\".format(rent)) #this is a string method to enchance user experince\n",
    "\n",
    "input(prompt = \"Click Enter to Continue\")"
   ]
  },
  {
   "cell_type": "code",
   "execution_count": null,
   "id": "ca90967a",
   "metadata": {},
   "outputs": [],
   "source": [
    "#3 Soultion\n",
    "\n",
    "#converting rent from string to a float\n",
    "rent = float(input(prompt = \"\"\"How much do you pay in rent? \"\"\"))\n",
    "\n",
    "print(\"\"\"\n",
    "You currently pay \\033[1m${:,.2f}\\033[0m each month in rent. Thanks for sharing.\n",
    "\"\"\".format(rent))\n",
    "\n",
    "input(prompt = \"Click Enter to Continue\")\n",
    "# dynamic print statement = shift + 3* \"\""
   ]
  },
  {
   "cell_type": "code",
   "execution_count": null,
   "id": "59c24f33",
   "metadata": {},
   "outputs": [],
   "source": [
    "#4 PART 1 Calculate monthly income requinments\n",
    "#break it down to hourly, weekly, monthly and annual (salary) rates.\n",
    "\n",
    "#Class: Let's think this through logically. \n",
    "\n",
    "#dummy variable - delete later\n",
    "rent = 1000\n",
    "\n",
    "#Define the following variables.\n",
    "monthly_income = rent/.3\n",
    "weekly_income = monthly_income/4\n",
    "hourly_income= weekly_income/40 #assuring you work 40 hours a week\n",
    "salary= monthly_income*12\n",
    "\n",
    "print(monthly_income,\n",
    "      weekly_income,\n",
    "      hourly_income,\n",
    "      salary)"
   ]
  },
  {
   "cell_type": "code",
   "execution_count": null,
   "id": "d6681822",
   "metadata": {},
   "outputs": [],
   "source": [
    "#4 Part 2 Communicate monthly, weekly, hourly, and salary to user.\n",
    "#Hint: create dummy variables to test the code.\n",
    "\n",
    "# dummy variables\n",
    "rent = 1900\n",
    "hourly_income= 55\n",
    "weekly_income = 2200\n",
    "monthly_income = 8800\n",
    "salary = 105000\n",
    "\n",
    "print(\"\"\"Since your rent is \\033[1m${:,.2f}\\033[0m, you need to make at least...\n",
    "a) \\033[1ms${:,.2f}\\ "
   ]
  },
  {
   "cell_type": "code",
   "execution_count": null,
   "id": "bbf6250e",
   "metadata": {},
   "outputs": [],
   "source": [
    "#SEPERATE FROM CODE FROM UP ABOVE\n",
    "\n",
    "#4 Part 3 Communicate rent and iuncome realitly to user\n",
    "\n",
    "print(\"\"\"\n",
    "Since you pay \\033[1m${:,.2f}\\033[0m each month in rent and make \\033[1m${:,.2f}\\033[0m each month, you need\n",
    "to make at least \\033[1m${:,.2f}\\033[0m each month to keep rent at 30% of your income or less.\n",
    "\"\"\".format(rent, monthly_income, minimum_rent))\n",
    "\n",
    "#enchance user experience\n",
    "input(prompt = \"Press Enter to Continue.\")"
   ]
  },
  {
   "cell_type": "code",
   "execution_count": null,
   "id": "69775a33",
   "metadata": {},
   "outputs": [],
   "source": [
    "#5 Part 1 Calculate additional monthly income requirnments\n",
    "# and break it down to hourly, weekly, monthly, and annual (salarly) rate.\n",
    "\n",
    "income_gap = minimum_rent - mothly_income\n",
    "\n",
    "#communincate gap to user\n",
    "print(\"\"\"To keep your rent less than 30% of your monthly income,\n",
    "you need to make at least  \\033[1m${:,.2f}\\033[0m more each month.\\\n",
    "\n",
    "Don't Worry!\n",
    "We'll break it down for you.\n",
    "\"\"\".format(income_gap))\n",
    "\n",
    "input(prompt = \"Press Enter to Continue.\")"
   ]
  },
  {
   "cell_type": "code",
   "execution_count": null,
   "id": "f454a80b",
   "metadata": {},
   "outputs": [],
   "source": [
    "#6 Recconmend a place to start looking for a job. (LinkedIn)\n",
    "\n",
    "print(\"\"\"We reccondmemnd looking for contract work on LinkedIn.\n",
    "\"\"\")\n",
    "#enhance user experience\n",
    "input(promt= \"Press enter to continue.\")"
   ]
  },
  {
   "cell_type": "code",
   "execution_count": null,
   "id": "05a08d6d",
   "metadata": {},
   "outputs": [],
   "source": [
    "#7 Summarize the data collected from the user.\n",
    "\n",
    "print(\"\"\"Thank you for using our program! Here is a summary of the data you provided.\n",
    "\n",
    "Name: \\033[1m${:,.2f}\\033[0m\n",
    "Rent:\\033[1m${:,.2f}\\033[0m\n",
    "Monthly Income:\\033[1m${:,.2f}\\033[0m\n",
    "\"\"\".format(name.captialize(),rent, monthly_income))\n",
    "\n",
    "input(prompt = \"Press enter to continue.\")"
   ]
  },
  {
   "cell_type": "code",
   "execution_count": null,
   "id": "905deab5",
   "metadata": {},
   "outputs": [],
   "source": []
  }
 ],
 "metadata": {
  "kernelspec": {
   "display_name": "Python 3 (ipykernel)",
   "language": "python",
   "name": "python3"
  },
  "language_info": {
   "codemirror_mode": {
    "name": "ipython",
    "version": 3
   },
   "file_extension": ".py",
   "mimetype": "text/x-python",
   "name": "python",
   "nbconvert_exporter": "python",
   "pygments_lexer": "ipython3",
   "version": "3.9.13"
  }
 },
 "nbformat": 4,
 "nbformat_minor": 5
}
